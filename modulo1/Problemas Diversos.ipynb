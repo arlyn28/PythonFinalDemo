{
 "cells": [
  {
   "cell_type": "markdown",
   "metadata": {},
   "source": [
    "# PROBLEMAS DIVERSOS"
   ]
  },
  {
   "cell_type": "markdown",
   "metadata": {},
   "source": [
    "<h3>1.</h3>\n",
    "Imagina que acabas de abrir una nueva cuenta de ahorros que te ofrece el 4% de interés al año. Estos ahorros debido a intereses, que no se cobran hasta finales de año, se te añaden al balance final de tu cuenta de ahorros. Escribir un programa que comience leyendo la cantidad de dinero depositada en la cuenta de ahorros, introducida por el usuario. Después el programa debe calcular y mostrar por pantalla la cantidad de ahorros tras el primer, segundo y tercer años. Redondear cada cantidad a dos decimales."
   ]
  },
  {
   "cell_type": "code",
   "execution_count": 6,
   "metadata": {},
   "outputs": [
    {
     "name": "stdin",
     "output_type": "stream",
     "text": [
      "Ingrese cantidad de dinero depositada en la cuenta de ahorros: 100\n"
     ]
    }
   ],
   "source": [
    "m = float(input('Ingrese cantidad de dinero depositada en la cuenta de ahorros:' )) "
   ]
  },
  {
   "cell_type": "code",
   "execution_count": 7,
   "metadata": {},
   "outputs": [
    {
     "name": "stdout",
     "output_type": "stream",
     "text": [
      "El monto al final del año 1 es :104.0\n",
      "El monto al final del año 2 es :108.16\n",
      "El monto al final del año 3 es :112.49\n"
     ]
    }
   ],
   "source": [
    "i = 0.04\n",
    "\n",
    "for a in range(1,4):\n",
    "    m = m * (1+i)\n",
    "    print(f\"El monto al final del año {a} es :{round(m,2)}\")\n",
    "    \n",
    "    #c1 = c + c * i c * (1 + i)\n"
   ]
  },
  {
   "cell_type": "markdown",
   "metadata": {},
   "source": [
    "### 2.\n",
    "Escriba un programa que pida los coeficientes de una ecuación de segundo grado <code>(a x² + b x + c = 0)</code> y escriba la solución.\n",
    "\n",
    "Se recuerda que una ecuación de segundo grado puede no tener solución, tener una solución única, tener dos soluciones o que todos los números sean solución."
   ]
  },
  {
   "cell_type": "markdown",
   "metadata": {},
   "source": [
    "<img src='https://i.pinimg.com/originals/d3/f7/01/d3f701528ad56ce0f5a98d7c91722fd7.png'>"
   ]
  },
  {
   "cell_type": "markdown",
   "metadata": {},
   "source": [
    "Su programa debe indicar:\n",
    "- En caso la ecuación cuadrática tenga solución real, su programa debe brindar la solución\n",
    "- En caso su ecuación no tenga solución real, su programa debe brindar un mensaje que diga \"Ecuación no presenta solución real\""
   ]
  },
  {
   "cell_type": "code",
   "execution_count": 8,
   "metadata": {},
   "outputs": [
    {
     "name": "stdin",
     "output_type": "stream",
     "text": [
      "Ingrese un valor diferente a 0:  2\n",
      "Ingrese el valor de b:  4\n",
      "Ingrese el valor de c:  -6\n"
     ]
    }
   ],
   "source": [
    "from math import sqrt\n",
    "\n",
    "a= int(input('Ingrese un valor diferente a 0: '))\n",
    "b= int(input('Ingrese el valor de b: '))\n",
    "c= int(input('Ingrese el valor de c: '))"
   ]
  },
  {
   "cell_type": "code",
   "execution_count": 9,
   "metadata": {},
   "outputs": [
    {
     "name": "stdout",
     "output_type": "stream",
     "text": [
      "Los valores son 1.0 y -3.0\n"
     ]
    }
   ],
   "source": [
    "if a != 0:\n",
    "    # calculo discriminante\n",
    "    d= (b**2 - 4*a*c)\n",
    "    \n",
    "    if d<0: \n",
    "        print('Ecuación no presenta solución real')\n",
    "    else: \n",
    "        x1= (-b+ sqrt(d))/(2*a)\n",
    "        x2= (-b- sqrt(d))/(2*a)\n",
    "        print(f'Los valores son {x1} y {x2}')\n",
    "    \n",
    "else:     \n",
    "    print('El valor de a debe ser distinto a cero')\n",
    "    "
   ]
  },
  {
   "cell_type": "code",
   "execution_count": null,
   "metadata": {},
   "outputs": [],
   "source": []
  }
 ],
 "metadata": {
  "kernelspec": {
   "display_name": "Python 3",
   "language": "python",
   "name": "python3"
  },
  "language_info": {
   "codemirror_mode": {
    "name": "ipython",
    "version": 3
   },
   "file_extension": ".py",
   "mimetype": "text/x-python",
   "name": "python",
   "nbconvert_exporter": "python",
   "pygments_lexer": "ipython3",
   "version": "3.8.5"
  }
 },
 "nbformat": 4,
 "nbformat_minor": 4
}
